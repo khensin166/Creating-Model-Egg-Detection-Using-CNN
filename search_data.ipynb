{
 "cells": [
  {
   "cell_type": "code",
   "execution_count": null,
   "id": "3f38ceb2",
   "metadata": {},
   "outputs": [
    {
     "name": "stderr",
     "output_type": "stream",
     "text": [
      "2025-04-08 10:15:13,280 - INFO - icrawler.crawler - start crawling...\n",
      "2025-04-08 10:15:13,280 - INFO - icrawler.crawler - starting 1 feeder threads...\n",
      "2025-04-08 10:15:13,282 - INFO - feeder - thread feeder-001 exit\n",
      "2025-04-08 10:15:13,283 - INFO - icrawler.crawler - starting 1 parser threads...\n",
      "2025-04-08 10:15:13,283 - INFO - icrawler.crawler - starting 1 downloader threads...\n"
     ]
    },
    {
     "name": "stdout",
     "output_type": "stream",
     "text": [
      "Mengunduh gambar untuk: empty plate\n"
     ]
    },
    {
     "name": "stderr",
     "output_type": "stream",
     "text": [
      "2025-04-08 10:15:14,770 - INFO - parser - parsing result page https://www.google.com/search?q=empty+plate&ijn=0&start=0&tbs=&tbm=isch\n",
      "2025-04-08 10:15:15,874 - ERROR - downloader - Response status code 404, file https://t3.ftcdn.net/jpg\n",
      "2025-04-08 10:15:18,587 - ERROR - downloader - Exception caught when downloading file https://png, error: HTTPSConnectionPool(host='png', port=443): Max retries exceeded with url: / (Caused by NameResolutionError(\"<urllib3.connection.HTTPSConnection object at 0x000001C04653B290>: Failed to resolve 'png' ([Errno 11001] getaddrinfo failed)\")), remaining retry times: 2\n",
      "2025-04-08 10:15:21,272 - ERROR - downloader - Exception caught when downloading file https://png, error: HTTPSConnectionPool(host='png', port=443): Max retries exceeded with url: / (Caused by NameResolutionError(\"<urllib3.connection.HTTPSConnection object at 0x000001C04653B6B0>: Failed to resolve 'png' ([Errno 11001] getaddrinfo failed)\")), remaining retry times: 1\n",
      "2025-04-08 10:15:23,947 - ERROR - downloader - Exception caught when downloading file https://png, error: HTTPSConnectionPool(host='png', port=443): Max retries exceeded with url: / (Caused by NameResolutionError(\"<urllib3.connection.HTTPSConnection object at 0x000001C04653B530>: Failed to resolve 'png' ([Errno 11001] getaddrinfo failed)\")), remaining retry times: 0\n",
      "2025-04-08 10:15:26,023 - ERROR - downloader - Response status code 400, file https://media.istockphoto.com/id/1170315961/photo/white-plate-wooden-table-tablecloth-rustic-wooden-clean-copy-freepik-table-top-view-wallpaper.jpg\n",
      "2025-04-08 10:15:26,280 - ERROR - downloader - Response status code 400, file https://media.istockphoto.com/id/1051652656/vector/empty-plate-with-knife-and-fork-isolated-on-a-white-background-view-from-above.jpg\n",
      "2025-04-08 10:15:28,144 - INFO - downloader - image #1\thttps://img.freepik.com/premium-photo/empty-plate-isolated-white_55883-5148.jpg\n",
      "2025-04-08 10:15:30,214 - INFO - downloader - image #2\thttps://media.npr.org/assets/img/2016/07/21/emptyplate3_sq-c3c38a5a7a726d4eaf619e9b868098046327e5b4.jpg\n",
      "2025-04-08 10:15:31,789 - ERROR - downloader - Response status code 400, file https://media.istockphoto.com/id/184276935/photo/empty-plate-on-white.jpg\n",
      "2025-04-08 10:15:32,731 - ERROR - downloader - Response status code 400, file https://img.pixers.pics/pho_wat(s3:700/FO/93/16/42/95/700_FO93164295_1737960c10cf442f2f8ca63be4ab279e.jpg\n",
      "2025-04-08 10:15:33,461 - INFO - downloader - image #3\thttps://www.shutterstock.com/image-photo/spoon-fork-on-empty-plate-260nw-778735972.jpg\n",
      "2025-04-08 10:15:37,981 - INFO - downloader - image #4\thttps://stlukesokc.org/wp-content/uploads/2017/05/empty-plate.jpg\n",
      "2025-04-08 10:15:54,500 - INFO - downloader - image #5\thttps://sustainablenutritioninitiative.com/wp-content/uploads/2022/09/SNippet-article-12.png\n",
      "2025-04-08 10:15:54,787 - ERROR - downloader - Response status code 400, file https://media.istockphoto.com/id/164629321/photo/white-empty-plate-at-the-table.jpg\n",
      "2025-04-08 10:15:55,560 - INFO - downloader - image #6\thttps://img.freepik.com/premium-vector/empty-plate-isolated-white-background_153563-1453.jpg\n",
      "2025-04-08 10:15:57,509 - INFO - downloader - image #7\thttps://previews.123rf.com/images/kryzhov/kryzhov1809/kryzhov180902121/108986666-closeup-image-of-woman-eating-from-empty-plate.jpg\n",
      "2025-04-08 10:15:58,459 - INFO - downloader - image #8\thttps://static2.bigstockphoto.com/0/1/2/large1500/210080887.jpg\n",
      "2025-04-08 10:16:00,042 - INFO - downloader - image #9\thttps://img.freepik.com/premium-photo/top-view-empty-plate_752237-10170.jpg\n",
      "2025-04-08 10:16:00,138 - ERROR - downloader - Exception caught when downloading file https://image.similarpng, error: HTTPSConnectionPool(host='image.similarpng', port=443): Max retries exceeded with url: / (Caused by NameResolutionError(\"<urllib3.connection.HTTPSConnection object at 0x000001C045F00D70>: Failed to resolve 'image.similarpng' ([Errno 11001] getaddrinfo failed)\")), remaining retry times: 2\n",
      "2025-04-08 10:16:00,140 - ERROR - downloader - Exception caught when downloading file https://image.similarpng, error: HTTPSConnectionPool(host='image.similarpng', port=443): Max retries exceeded with url: / (Caused by NameResolutionError(\"<urllib3.connection.HTTPSConnection object at 0x000001C045F00DD0>: Failed to resolve 'image.similarpng' ([Errno 11001] getaddrinfo failed)\")), remaining retry times: 1\n",
      "2025-04-08 10:16:00,140 - ERROR - downloader - Exception caught when downloading file https://image.similarpng, error: HTTPSConnectionPool(host='image.similarpng', port=443): Max retries exceeded with url: / (Caused by NameResolutionError(\"<urllib3.connection.HTTPSConnection object at 0x000001C045F03B90>: Failed to resolve 'image.similarpng' ([Errno 11001] getaddrinfo failed)\")), remaining retry times: 0\n",
      "2025-04-08 10:16:02,839 - ERROR - downloader - Exception caught when downloading file https://similarpng, error: HTTPSConnectionPool(host='similarpng', port=443): Max retries exceeded with url: / (Caused by NameResolutionError(\"<urllib3.connection.HTTPSConnection object at 0x000001C045F1C320>: Failed to resolve 'similarpng' ([Errno 11001] getaddrinfo failed)\")), remaining retry times: 2\n",
      "2025-04-08 10:16:05,525 - ERROR - downloader - Exception caught when downloading file https://similarpng, error: HTTPSConnectionPool(host='similarpng', port=443): Max retries exceeded with url: / (Caused by NameResolutionError(\"<urllib3.connection.HTTPSConnection object at 0x000001C045F1C830>: Failed to resolve 'similarpng' ([Errno 11001] getaddrinfo failed)\")), remaining retry times: 1\n",
      "2025-04-08 10:16:08,194 - ERROR - downloader - Exception caught when downloading file https://similarpng, error: HTTPSConnectionPool(host='similarpng', port=443): Max retries exceeded with url: / (Caused by NameResolutionError(\"<urllib3.connection.HTTPSConnection object at 0x000001C045F1CE30>: Failed to resolve 'similarpng' ([Errno 11001] getaddrinfo failed)\")), remaining retry times: 0\n",
      "2025-04-08 10:16:10,434 - ERROR - downloader - Response status code 403, file https://static.vecteezy.com/system/resources/previews/033/268/568/non_2x/empty-plate-transparent-png\n",
      "2025-04-08 10:16:10,813 - ERROR - downloader - Response status code 403, file https://www.vecteezy.com/png\n",
      "2025-04-08 10:16:13,194 - INFO - downloader - image #10\thttps://www.hungersolutions.org/wp-content/uploads/2019/02/breadcrumbs-on-plate-twitter.jpg\n",
      "2025-04-08 10:16:33,230 - INFO - downloader - downloaded images reach max num, thread downloader-001 is ready to exit\n",
      "2025-04-08 10:16:33,230 - INFO - downloader - thread downloader-001 exit\n",
      "2025-04-08 10:16:33,265 - INFO - parser - downloaded image reached max num, thread parser-001 is ready to exit\n",
      "2025-04-08 10:16:33,265 - INFO - parser - thread parser-001 exit\n",
      "2025-04-08 10:16:33,316 - INFO - icrawler.crawler - Crawling task done!\n",
      "2025-04-08 10:16:33,601 - INFO - icrawler.crawler - start crawling...\n",
      "2025-04-08 10:16:33,601 - INFO - icrawler.crawler - starting 1 feeder threads...\n",
      "2025-04-08 10:16:33,601 - INFO - feeder - thread feeder-001 exit\n",
      "2025-04-08 10:16:33,601 - INFO - icrawler.crawler - starting 1 parser threads...\n",
      "2025-04-08 10:16:33,601 - INFO - icrawler.crawler - starting 1 downloader threads...\n"
     ]
    },
    {
     "name": "stdout",
     "output_type": "stream",
     "text": [
      "Mengunduh gambar untuk: hand\n"
     ]
    },
    {
     "name": "stderr",
     "output_type": "stream",
     "text": [
      "2025-04-08 10:16:34,812 - INFO - parser - parsing result page https://www.google.com/search?q=hand&ijn=0&start=0&tbs=&tbm=isch\n",
      "2025-04-08 10:16:35,249 - INFO - downloader - image #1\thttps://img.freepik.com/free-psd/close-up-delicate-hands-gesturing_23-2151437660.jpg\n",
      "2025-04-08 10:16:35,915 - ERROR - downloader - Response status code 404, file https://upload.wikimedia.org/wikipedia/commons/thumb/a/a3/Hand%2C_fingers_-_back.jpg\n",
      "2025-04-08 10:16:37,481 - INFO - downloader - image #2\thttps://www.caryortho.com/wp-content/uploads/2020/04/What-Does-a-Hand-Specialist-Do.jpg\n",
      "2025-04-08 10:16:38,311 - ERROR - downloader - Response status code 404, file https://as1.ftcdn.net/v2/jpg\n",
      "2025-04-08 10:16:39,860 - INFO - downloader - image #3\thttps://i0.wp.com/knowledge.carolina.com/wp-content/uploads/2022/07/volunteer-422598_1920.jpg\n",
      "2025-04-08 10:16:42,346 - INFO - downloader - image #4\thttps://upload.wikimedia.org/wikipedia/commons/b/b2/Hand_of_a_Teenage_Boy.png\n",
      "2025-04-08 10:16:45,329 - ERROR - downloader - Response status code 400, file https://media.istockphoto.com/id/462908027/photo/hand-gestures-on-white-background.jpg\n",
      "2025-04-08 10:16:51,092 - INFO - downloader - image #5\thttps://www.etzelclinic.ch/wp-content/uploads/2014/05/etzelclinic-hand-011.png\n",
      "2025-04-08 10:16:51,530 - INFO - downloader - image #6\thttps://cdn.prod.website-files.com/577065f4e06b550b0c190c5c/583bb3ca5b8693a10835b1f3_Sophie%27s%20hand_BEN7244.jpg\n",
      "2025-04-08 10:17:03,247 - INFO - downloader - image #7\thttps://deserthandandpt.com/wp-content/uploads/GettyImages-1022704198.jpg\n",
      "2025-04-08 10:17:04,529 - INFO - downloader - image #8\thttps://plus.unsplash.com/premium_photo-1666107278223-780557577da0?fm=jpg\n",
      "2025-04-08 10:17:05,551 - INFO - downloader - image #9\thttps://sa1s3optim.patientpop.com/assets/images/provider/photos/2553225.jpg\n",
      "2025-04-08 10:17:06,398 - INFO - downloader - image #10\thttps://dictionary.cambridge.org/images/thumb/hand_noun_002_17099.jpg\n",
      "2025-04-08 10:17:06,760 - INFO - downloader - downloaded images reach max num, thread downloader-001 is ready to exit\n",
      "2025-04-08 10:17:06,760 - INFO - downloader - thread downloader-001 exit\n",
      "2025-04-08 10:17:07,619 - INFO - icrawler.crawler - Crawling task done!\n",
      "2025-04-08 10:17:08,125 - INFO - icrawler.crawler - start crawling...\n",
      "2025-04-08 10:17:08,125 - INFO - icrawler.crawler - starting 1 feeder threads...\n",
      "2025-04-08 10:17:08,125 - INFO - feeder - thread feeder-001 exit\n",
      "2025-04-08 10:17:08,129 - INFO - icrawler.crawler - starting 1 parser threads...\n",
      "2025-04-08 10:17:08,130 - INFO - icrawler.crawler - starting 1 downloader threads...\n"
     ]
    },
    {
     "name": "stdout",
     "output_type": "stream",
     "text": [
      "Mengunduh gambar untuk: fork\n"
     ]
    },
    {
     "name": "stderr",
     "output_type": "stream",
     "text": [
      "2025-04-08 10:17:08,541 - INFO - parser - downloaded image reached max num, thread parser-001 is ready to exit\n",
      "2025-04-08 10:17:08,541 - INFO - parser - thread parser-001 exit\n",
      "2025-04-08 10:17:09,555 - INFO - parser - parsing result page https://www.google.com/search?q=fork&ijn=0&start=0&tbs=&tbm=isch\n",
      "2025-04-08 10:17:10,451 - INFO - downloader - image #1\thttps://jenggala.com/wp-content/uploads/2020/05/CT0343-2001-1.jpg\n",
      "2025-04-08 10:17:11,894 - INFO - downloader - image #2\thttps://m.media-amazon.com/images/I/61z0LVrrowL._AC_UF894,1000_QL80_.jpg\n",
      "2025-04-08 10:17:12,471 - INFO - downloader - image #3\thttps://indohoreca.com/wp-content/uploads/2020/01/Mapping/3/123901-01.png\n",
      "2025-04-08 10:17:13,186 - INFO - downloader - image #4\thttps://www.tinekhome.com/media/filer_public/9e/72/9e7247ed-7d01-4dd2-8c6c-9c7d7573bcf9/cutfork-mat.jpg\n",
      "2025-04-08 10:17:15,181 - INFO - downloader - image #5\thttps://www.harfieldtableware.co.uk/wp-content/uploads/2019/09/med-blue-fork-2.jpg\n",
      "2025-04-08 10:17:16,331 - INFO - downloader - image #6\thttps://www.wmf-professional.com/media/catalog/product/cache/2/thumbnail/554x/9df78eab33525d08d6e5fb8d27136e95/5/4/54_3002_6040.jpg\n",
      "2025-04-08 10:17:17,360 - INFO - downloader - image #7\thttps://bhalaria.in/cdn/shop/files/SMOOTH-DESIGN-DINNER-FORK-_6-Pcs-Set_-1000-X-1000.jpg\n",
      "2025-04-08 10:17:18,816 - INFO - downloader - image #8\thttps://upload.wikimedia.org/wikipedia/commons/7/7c/Assorted_forks.jpg\n",
      "2025-04-08 10:17:20,893 - INFO - downloader - image #9\thttps://www.rayware.co.uk/media/catalog/product/0/3/0302.654_1.jpg\n",
      "2025-04-08 10:17:21,261 - ERROR - downloader - Response status code 404, file https://upload.wikimedia.org/wikipedia/commons/thumb/d/d1/Fork.agr.jpg\n",
      "2025-04-08 10:17:23,261 - INFO - downloader - image #10\thttps://muji.com.au/cdn/shop/products/4550344500217_1260_900x.jpg\n",
      "2025-04-08 10:17:26,810 - INFO - downloader - downloaded images reach max num, thread downloader-001 is ready to exit\n",
      "2025-04-08 10:17:26,810 - INFO - downloader - thread downloader-001 exit\n",
      "2025-04-08 10:17:27,138 - INFO - icrawler.crawler - Crawling task done!\n",
      "2025-04-08 10:17:27,269 - INFO - parser - downloaded image reached max num, thread parser-001 is ready to exit\n",
      "2025-04-08 10:17:27,270 - INFO - parser - thread parser-001 exit\n",
      "2025-04-08 10:17:27,465 - INFO - icrawler.crawler - start crawling...\n",
      "2025-04-08 10:17:27,466 - INFO - icrawler.crawler - starting 1 feeder threads...\n",
      "2025-04-08 10:17:27,468 - INFO - feeder - thread feeder-001 exit\n",
      "2025-04-08 10:17:27,470 - INFO - icrawler.crawler - starting 1 parser threads...\n",
      "2025-04-08 10:17:27,470 - INFO - icrawler.crawler - starting 1 downloader threads...\n"
     ]
    },
    {
     "name": "stdout",
     "output_type": "stream",
     "text": [
      "Mengunduh gambar untuk: glass\n"
     ]
    },
    {
     "name": "stderr",
     "output_type": "stream",
     "text": [
      "2025-04-08 10:17:28,948 - INFO - parser - parsing result page https://www.google.com/search?q=glass&ijn=0&start=0&tbs=&tbm=isch\n",
      "2025-04-08 10:17:39,155 - INFO - downloader - image #1\thttps://www.moser.com/ver/20220209135129/variant/eshop/product/edeeshop/moser/product/galerie/28768/optic-300-int-1/971x1246.jpg\n",
      "2025-04-08 10:17:39,505 - INFO - downloader - image #2\thttps://d2xjmi1k71iy2m.cloudfront.net/dairyfarm/id/images/842/1384269_PE962939_S4.jpg\n",
      "2025-04-08 10:17:39,586 - INFO - downloader - image #3\thttps://d2xjmi1k71iy2m.cloudfront.net/dairyfarm/id/images/289/0928963_PE790099_S4.jpg\n",
      "2025-04-08 10:17:39,974 - INFO - downloader - image #4\thttps://m.media-amazon.com/images/I/31CPVoKIJmL._AC_UF894,1000_QL80_.jpg\n",
      "2025-04-08 10:17:40,273 - INFO - downloader - image #5\thttps://m.media-amazon.com/images/M/MV5BMTY1OTA2MjI5OV5BMl5BanBnXkFtZTgwNzkxMjU4NjM@._V1_.jpg\n",
      "2025-04-08 10:17:40,921 - ERROR - downloader - Response status code 404, file https://upload.wikimedia.org/wikipedia/commons/thumb/4/43/Fassade_Wilhelmstrasse_65%2C_Berlin-Mitte%2C_160417%2C_ako.jpg\n",
      "2025-04-08 10:17:41,505 - INFO - downloader - image #6\thttps://i.ytimg.com/vi/95ghQs5AmNk/maxresdefault.jpg\n",
      "2025-04-08 10:17:42,640 - INFO - downloader - image #7\thttp://symglass.com/cdn/shop/files/pint_dae0d071-72d5-44fc-8f25-234054de50a1.jpg\n",
      "2025-04-08 10:17:43,990 - INFO - downloader - image #8\thttps://pics.filmaffinity.com/glass-170696534-large.jpg\n",
      "2025-04-08 10:17:47,830 - INFO - downloader - image #9\thttps://fireworks.lk/wp-content/uploads/2024/03/soft-drink-glass.jpg\n",
      "2025-04-08 10:17:48,433 - INFO - downloader - image #10\thttps://expresstoughening.com/wp-content/uploads/2021/04/Low-Iron.jpg\n",
      "2025-04-08 10:17:50,961 - INFO - downloader - downloaded images reach max num, thread downloader-001 is ready to exit\n",
      "2025-04-08 10:17:50,961 - INFO - downloader - thread downloader-001 exit\n",
      "2025-04-08 10:17:51,485 - INFO - icrawler.crawler - Crawling task done!\n",
      "2025-04-08 10:17:51,630 - INFO - icrawler.crawler - start crawling...\n",
      "2025-04-08 10:17:51,630 - INFO - icrawler.crawler - starting 1 feeder threads...\n",
      "2025-04-08 10:17:51,631 - INFO - feeder - thread feeder-001 exit\n",
      "2025-04-08 10:17:51,633 - INFO - icrawler.crawler - starting 1 parser threads...\n",
      "2025-04-08 10:17:51,633 - INFO - icrawler.crawler - starting 1 downloader threads...\n"
     ]
    },
    {
     "name": "stdout",
     "output_type": "stream",
     "text": [
      "Mengunduh gambar untuk: keyboard\n"
     ]
    },
    {
     "name": "stderr",
     "output_type": "stream",
     "text": [
      "2025-04-08 10:17:52,446 - INFO - parser - downloaded image reached max num, thread parser-001 is ready to exit\n",
      "2025-04-08 10:17:52,446 - INFO - parser - thread parser-001 exit\n",
      "2025-04-08 10:17:53,106 - INFO - parser - parsing result page https://www.google.com/search?q=keyboard&ijn=0&start=0&tbs=&tbm=isch\n",
      "2025-04-08 10:17:58,620 - INFO - downloader - image #1\thttps://www.keychron.id/cdn/shop/products/Keychron-K6-compact-65-percent-wireless-mechanical-keyboard-for-Mac-Windows-iOS-keychron-switch-red-with-type-C-non-backlight_9b82e62e-48b9-4ec2-a21c-9775ab9ced60.jpg\n",
      "2025-04-08 10:17:59,700 - INFO - downloader - image #2\thttps://jete.id/wp-content/uploads/2023/05/Group-1-1-1.jpg\n",
      "2025-04-08 10:18:07,270 - INFO - downloader - image #3\thttps://www.risccomputer.co.id/wp-content/uploads/2022/02/k120-gallery-01-new.png\n",
      "2025-04-08 10:18:07,667 - INFO - downloader - image #4\thttps://cdnpro.eraspace.com/media/catalog/product/a/p/apple_magic_keyboard_with_touch_id_1_1.jpg\n",
      "2025-04-08 10:18:09,328 - INFO - downloader - image #5\thttps://row.hyperx.com/cdn/shop/files/hyperx_alloy_core_rgb_uk_1_main.jpg\n",
      "2025-04-08 10:18:10,188 - INFO - downloader - image #6\thttps://www.keychron.id/cdn/shop/products/Keychron-K12-60percent-compact-hot-swappable-wireless-mechanical-keyboard-aluminum-frame-Mac-Windows-White-RGB-backlight-Gateron-mechanical-switch-brown.jpg\n",
      "2025-04-08 10:18:11,456 - INFO - downloader - image #7\thttps://img.gkbcdn.com/s3/p/2022-09-02/Redragon-K629-RGB-75--Rainbow-Backlight-Mechanical-Gaming-keyboard-516458-0.jpg\n",
      "2025-04-08 10:18:12,062 - INFO - downloader - image #8\thttps://jete.id/wp-content/uploads/2023/05/Group-2-2-1.jpg\n",
      "2025-04-08 10:18:18,727 - INFO - downloader - image #9\thttps://www.fingers.co.in/secure/api/uploads/products/1662639724_2.png\n",
      "2025-04-08 10:18:22,050 - INFO - downloader - image #10\thttps://geemarc.com/uk/wp-content/uploads/sites/2/2018/05/KBS-V3-UK-scaled.jpg\n",
      "2025-04-08 10:18:23,560 - INFO - downloader - downloaded images reach max num, thread downloader-001 is ready to exit\n",
      "2025-04-08 10:18:23,561 - INFO - downloader - thread downloader-001 exit\n",
      "2025-04-08 10:18:23,649 - INFO - icrawler.crawler - Crawling task done!\n",
      "2025-04-08 10:18:23,747 - INFO - parser - downloaded image reached max num, thread parser-001 is ready to exit\n",
      "2025-04-08 10:18:23,750 - INFO - parser - thread parser-001 exit\n",
      "c:\\Users\\khens\\envs\\notesenv\\Lib\\site-packages\\PIL\\Image.py:1045: UserWarning: Palette images with Transparency expressed in bytes should be converted to RGBA images\n",
      "  warnings.warn(\n",
      "2025-04-08 10:18:24,006 - INFO - icrawler.crawler - start crawling...\n",
      "2025-04-08 10:18:24,007 - INFO - icrawler.crawler - starting 1 feeder threads...\n",
      "2025-04-08 10:18:24,007 - INFO - feeder - thread feeder-001 exit\n",
      "2025-04-08 10:18:24,010 - INFO - icrawler.crawler - starting 1 parser threads...\n",
      "2025-04-08 10:18:24,011 - INFO - icrawler.crawler - starting 1 downloader threads...\n"
     ]
    },
    {
     "name": "stdout",
     "output_type": "stream",
     "text": [
      "Mengunduh gambar untuk: furniture\n"
     ]
    },
    {
     "name": "stderr",
     "output_type": "stream",
     "text": [
      "2025-04-08 10:18:25,472 - INFO - parser - parsing result page https://www.google.com/search?q=furniture&ijn=0&start=0&tbs=&tbm=isch\n",
      "2025-04-08 10:18:26,284 - INFO - downloader - image #1\thttps://expatliving.net/wp-content/uploads/2018/11/001.jpg\n",
      "2025-04-08 10:18:27,580 - INFO - downloader - image #2\thttps://binus.ac.id/malang/wp-content/uploads/2020/09/Temukan-penjelasan-lengkap-tentang-apa-yang-membuat-furniture-berkualitas-baik.jpg\n",
      "2025-04-08 10:18:28,080 - INFO - downloader - image #3\thttps://images-cdn.ubuy.co.id/6356b3a5c2926a7d140892e4-a-beautiful-high-quality-living-room.jpg\n",
      "2025-04-08 10:18:34,814 - INFO - downloader - image #4\thttps://lagomhomestore.com/cdn/shop/files/bangku-panjang-minimalis-dari-kayu-jati-bench-seat-lagom-home-store-teak-furniture-boutique-jati-furnitur-jakarta-1096127872.png\n",
      "2025-04-08 10:18:35,400 - ERROR - downloader - Response status code 403, file https://www.rd.com/wp-content/uploads/2022/07/GettyImages-1379424970-scaled.jpg\n",
      "2025-04-08 10:18:36,680 - INFO - downloader - image #5\thttps://images-cdn.ubuy.co.id/63721ab39fec231b6d60ecd5-3-pieces-bedroom-furniture-set-with-king.jpg\n",
      "2025-04-08 10:18:40,411 - INFO - downloader - image #6\thttps://www.worldfurnitureonline.com/wp-content/uploads/2021/10/World-Furniture-Online_39.jpg\n",
      "2025-04-08 10:18:47,640 - INFO - downloader - image #7\thttps://hips.hearstapps.com/hmg-prod/images/gh-best-furniture-stores-641090bd882f9.png\n",
      "2025-04-08 10:18:50,361 - INFO - downloader - image #8\thttps://www.lifestylefurniturewa.com.au/UploadImages/Homebanner/1718936783_Untitled.jpg\n",
      "2025-04-08 10:18:51,136 - INFO - downloader - image #9\thttps://media.designcafe.com/wp-content/uploads/2023/07/05120637/modern-furniture-designs.jpg\n",
      "2025-04-08 10:18:51,731 - INFO - downloader - image #10\thttps://www.worldmarket.com/dw/image/v2/BJWT_PRD/on/demandware.static/-/Sites-World_Market-Library/default/dw85c9471d/Gateway-Folder/116715-Furniture/02025/2025_01_03/1col-1-gateway-furniture-mobile-0103.jpg\n",
      "2025-04-08 10:18:52,111 - INFO - downloader - downloaded images reach max num, thread downloader-001 is ready to exit\n",
      "2025-04-08 10:18:52,111 - INFO - downloader - thread downloader-001 exit\n",
      "2025-04-08 10:18:53,022 - INFO - icrawler.crawler - Crawling task done!\n",
      "2025-04-08 10:18:53,354 - INFO - icrawler.crawler - start crawling...\n",
      "2025-04-08 10:18:53,354 - INFO - icrawler.crawler - starting 1 feeder threads...\n",
      "2025-04-08 10:18:53,354 - INFO - feeder - thread feeder-001 exit\n",
      "2025-04-08 10:18:53,354 - INFO - icrawler.crawler - starting 1 parser threads...\n",
      "2025-04-08 10:18:53,354 - INFO - icrawler.crawler - starting 1 downloader threads...\n"
     ]
    },
    {
     "name": "stdout",
     "output_type": "stream",
     "text": [
      "Mengunduh gambar untuk: paper\n"
     ]
    },
    {
     "name": "stderr",
     "output_type": "stream",
     "text": [
      "2025-04-08 10:18:53,736 - INFO - parser - downloaded image reached max num, thread parser-001 is ready to exit\n",
      "2025-04-08 10:18:53,736 - INFO - parser - thread parser-001 exit\n",
      "2025-04-08 10:18:54,853 - INFO - parser - parsing result page https://www.google.com/search?q=paper&ijn=0&start=0&tbs=&tbm=isch\n",
      "2025-04-08 10:18:55,461 - INFO - downloader - image #1\thttps://i.ebayimg.com/images/g/7GIAAOSw8T9gVMP5/s-l1200.jpg\n",
      "2025-04-08 10:18:55,904 - INFO - downloader - image #2\thttps://res.cloudinary.com/env-imgs/images/f_auto/shopimages/products/1200/white-card/.jpg\n",
      "2025-04-08 10:18:56,633 - INFO - downloader - image #3\thttps://images-cdn.ubuy.co.id/633adfb7374d0e6ce1495454-200-10.jpg\n",
      "2025-04-08 10:18:58,570 - ERROR - downloader - Response status code 403, file https://paperworks.com/sites/default/files/styles/product_zoomed_image/public/products/white%20booklet%201-287_3.jpg\n",
      "2025-04-08 10:18:59,249 - INFO - downloader - image #4\thttps://cdn11.bigcommerce.com/s-2i5mq6440u/images/stencil/2048x2048/products/3762/9095/PlasticPaper-CutSheet__18809.1597757191.png\n",
      "2025-04-08 10:18:59,691 - INFO - downloader - image #5\thttps://m.media-amazon.com/images/I/61A6l4pEesL._AC_UF350,350_QL80_.jpg\n",
      "2025-04-08 10:19:06,195 - ERROR - downloader - Exception caught when downloading file https://www.aph.org/app/uploads/2019/03/1-04560-00_Embossed_Writing_Paper_G-600x657.jpg, error: HTTPSConnectionPool(host='www.aph.org', port=443): Read timed out. (read timeout=5), remaining retry times: 2\n",
      "2025-04-08 10:19:13,504 - INFO - downloader - image #6\thttps://www.aph.org/app/uploads/2019/03/1-04560-00_Embossed_Writing_Paper_G-600x657.jpg\n",
      "2025-04-08 10:19:23,212 - INFO - downloader - image #7\thttps://assets.manufactum.de/p/082/082675/82675_01.jpg\n",
      "2025-04-08 10:19:23,811 - ERROR - downloader - Response status code 400, file https://media.istockphoto.com/id/1497523070/photo/closeup-of-white-crumpled-paper-for-texture-background.jpg\n",
      "2025-04-08 10:19:24,629 - INFO - downloader - image #8\thttps://www.hobbycraft.co.uk/on/demandware.static/-/Sites-hobbycraft-uk-master/default/dw8aedf2d1/images/large/584769_1000_1_-white-premium-smooth-paper-a4-100-pack.jpg\n",
      "2025-04-08 10:19:27,309 - ERROR - downloader - Exception caught when downloading file https://png, error: HTTPSConnectionPool(host='png', port=443): Max retries exceeded with url: / (Caused by NameResolutionError(\"<urllib3.connection.HTTPSConnection object at 0x000001C047F38EC0>: Failed to resolve 'png' ([Errno 11001] getaddrinfo failed)\")), remaining retry times: 2\n",
      "2025-04-08 10:19:29,996 - ERROR - downloader - Exception caught when downloading file https://png, error: HTTPSConnectionPool(host='png', port=443): Max retries exceeded with url: / (Caused by NameResolutionError(\"<urllib3.connection.HTTPSConnection object at 0x000001C047F0A0C0>: Failed to resolve 'png' ([Errno 11001] getaddrinfo failed)\")), remaining retry times: 1\n",
      "2025-04-08 10:19:32,700 - ERROR - downloader - Exception caught when downloading file https://png, error: HTTPSConnectionPool(host='png', port=443): Max retries exceeded with url: / (Caused by NameResolutionError(\"<urllib3.connection.HTTPSConnection object at 0x000001C047F0AE40>: Failed to resolve 'png' ([Errno 11001] getaddrinfo failed)\")), remaining retry times: 0\n",
      "2025-04-08 10:19:36,300 - INFO - downloader - image #9\thttps://i.etsystatic.com/19232050/r/il/45fb04/3139808659/il_fullxfull.3139808659_b74g.jpg\n",
      "2025-04-08 10:19:36,982 - INFO - downloader - image #10\thttps://marketplace.canva.com/EAE0mr_Fay4/1/0/566w/canva-simple-a4-lined-paper-ze-FXYzUNrk.jpg\n",
      "2025-04-08 10:19:39,051 - INFO - downloader - downloaded images reach max num, thread downloader-001 is ready to exit\n",
      "2025-04-08 10:19:39,052 - INFO - downloader - thread downloader-001 exit\n",
      "2025-04-08 10:19:39,376 - INFO - icrawler.crawler - Crawling task done!\n",
      "2025-04-08 10:19:39,554 - INFO - icrawler.crawler - start crawling...\n",
      "2025-04-08 10:19:39,554 - INFO - icrawler.crawler - starting 1 feeder threads...\n",
      "2025-04-08 10:19:39,556 - INFO - feeder - thread feeder-001 exit\n",
      "2025-04-08 10:19:39,556 - INFO - icrawler.crawler - starting 1 parser threads...\n",
      "2025-04-08 10:19:39,559 - INFO - icrawler.crawler - starting 1 downloader threads...\n"
     ]
    },
    {
     "name": "stdout",
     "output_type": "stream",
     "text": [
      "Mengunduh gambar untuk: plastic bottle\n"
     ]
    },
    {
     "name": "stderr",
     "output_type": "stream",
     "text": [
      "2025-04-08 10:19:39,994 - INFO - parser - downloaded image reached max num, thread parser-001 is ready to exit\n",
      "2025-04-08 10:19:39,995 - INFO - parser - thread parser-001 exit\n",
      "2025-04-08 10:19:40,972 - INFO - parser - parsing result page https://www.google.com/search?q=plastic+bottle&ijn=0&start=0&tbs=&tbm=isch\n",
      "2025-04-08 10:19:43,736 - ERROR - downloader - Exception caught when downloading file https://png, error: HTTPSConnectionPool(host='png', port=443): Max retries exceeded with url: / (Caused by NameResolutionError(\"<urllib3.connection.HTTPSConnection object at 0x000001C047DC93D0>: Failed to resolve 'png' ([Errno 11001] getaddrinfo failed)\")), remaining retry times: 2\n",
      "2025-04-08 10:19:46,437 - ERROR - downloader - Exception caught when downloading file https://png, error: HTTPSConnectionPool(host='png', port=443): Max retries exceeded with url: / (Caused by NameResolutionError(\"<urllib3.connection.HTTPSConnection object at 0x000001C047DC9850>: Failed to resolve 'png' ([Errno 11001] getaddrinfo failed)\")), remaining retry times: 1\n",
      "2025-04-08 10:19:49,120 - ERROR - downloader - Exception caught when downloading file https://png, error: HTTPSConnectionPool(host='png', port=443): Max retries exceeded with url: / (Caused by NameResolutionError(\"<urllib3.connection.HTTPSConnection object at 0x000001C047DC9D30>: Failed to resolve 'png' ([Errno 11001] getaddrinfo failed)\")), remaining retry times: 0\n",
      "2025-04-08 10:19:53,054 - INFO - downloader - image #1\thttps://bernardlab.com/wp-content/uploads/2021/01/plastic-bottles.png\n",
      "2025-04-08 10:19:54,325 - INFO - downloader - image #2\thttps://sanjoserecycles.org/wp-content/uploads/sites/8/2015/02/plastic-water-bottle-empty.jpg\n",
      "2025-04-08 10:20:09,180 - INFO - downloader - image #3\thttps://www.unisort.co.uk/app/uploads/plastic-bottle-waste.png\n",
      "2025-04-08 10:20:14,385 - ERROR - downloader - Exception caught when downloading file https://cdn.recyclopedia.sg/strapi-assets/Clear_plastic_bottle_2dc92dc39c.png, error: HTTPSConnectionPool(host='cdn.recyclopedia.sg', port=443): Read timed out. (read timeout=5), remaining retry times: 2\n",
      "2025-04-08 10:20:19,537 - ERROR - downloader - Exception caught when downloading file https://cdn.recyclopedia.sg/strapi-assets/Clear_plastic_bottle_2dc92dc39c.png, error: HTTPSConnectionPool(host='cdn.recyclopedia.sg', port=443): Read timed out. (read timeout=5), remaining retry times: 1\n",
      "2025-04-08 10:20:24,696 - ERROR - downloader - Exception caught when downloading file https://cdn.recyclopedia.sg/strapi-assets/Clear_plastic_bottle_2dc92dc39c.png, error: HTTPSConnectionPool(host='cdn.recyclopedia.sg', port=443): Read timed out. (read timeout=5), remaining retry times: 0\n",
      "2025-04-08 10:20:25,420 - INFO - downloader - image #4\thttps://d3hnfqimznafg0.cloudfront.net/images/Article_Images/ImageForArticle_790(1).jpg\n",
      "2025-04-08 10:20:26,709 - ERROR - downloader - Response status code 404, file https://t4.ftcdn.net/jpg\n",
      "2025-04-08 10:20:28,182 - INFO - downloader - image #5\thttp://market99.com/cdn/shop/products/gradiant-prints-plastic-water-storage-bottle-1100ml-water-bottles-1-29133460766890.jpg\n",
      "2025-04-08 10:20:32,021 - INFO - downloader - image #6\thttps://doulton.com/cdn/shop/articles/The_Dangers_of_Drinking_From_Plastic_Water_Bottles_771a536c-91da-4f59-951a-47856958b881.png\n",
      "2025-04-08 10:20:33,313 - INFO - downloader - image #7\thttps://www.bigbasket.com/media/uploads/p/xxl/40298397-2_1-polyset-hexa-pet-plastic-bottle-assorted.jpg\n",
      "2025-04-08 10:20:34,047 - ERROR - downloader - Exception caught when downloading file https://eupegypt.com/wp-content/uploads/2024/11/Nhua-PET2-1.jpg, error: HTTPSConnectionPool(host='eupegypt.com', port=443): Max retries exceeded with url: /wp-content/uploads/2024/11/Nhua-PET2-1.jpg (Caused by SSLError(SSLCertVerificationError(1, '[SSL: CERTIFICATE_VERIFY_FAILED] certificate verify failed: unable to get local issuer certificate (_ssl.c:1000)'))), remaining retry times: 2\n",
      "2025-04-08 10:20:34,751 - ERROR - downloader - Exception caught when downloading file https://eupegypt.com/wp-content/uploads/2024/11/Nhua-PET2-1.jpg, error: HTTPSConnectionPool(host='eupegypt.com', port=443): Max retries exceeded with url: /wp-content/uploads/2024/11/Nhua-PET2-1.jpg (Caused by SSLError(SSLCertVerificationError(1, '[SSL: CERTIFICATE_VERIFY_FAILED] certificate verify failed: unable to get local issuer certificate (_ssl.c:1000)'))), remaining retry times: 1\n",
      "2025-04-08 10:20:35,424 - ERROR - downloader - Exception caught when downloading file https://eupegypt.com/wp-content/uploads/2024/11/Nhua-PET2-1.jpg, error: HTTPSConnectionPool(host='eupegypt.com', port=443): Max retries exceeded with url: /wp-content/uploads/2024/11/Nhua-PET2-1.jpg (Caused by SSLError(SSLCertVerificationError(1, '[SSL: CERTIFICATE_VERIFY_FAILED] certificate verify failed: unable to get local issuer certificate (_ssl.c:1000)'))), remaining retry times: 0\n",
      "2025-04-08 10:20:37,095 - INFO - downloader - image #8\thttps://souriredessaveurs.com/3745-large_default/source-water-pet-plastic-bottle-50-cl.jpg\n",
      "2025-04-08 10:20:37,685 - INFO - downloader - image #9\thttps://www.roadrunnerwm.com/hubfs/Blog/Hero%20Images/RR-Blog-What-Are-Eco-Friendly-Plastics.jpg\n",
      "2025-04-08 10:20:38,208 - INFO - downloader - image #10\thttps://tiimg.tistatic.com/fp/2/008/348/500ml-transparent-pet-plastic-water-bottle-549.jpg\n",
      "2025-04-08 10:20:45,570 - INFO - downloader - downloaded images reach max num, thread downloader-001 is ready to exit\n",
      "2025-04-08 10:20:45,570 - INFO - downloader - thread downloader-001 exit\n",
      "2025-04-08 10:20:45,583 - INFO - icrawler.crawler - Crawling task done!\n",
      "2025-04-08 10:20:45,825 - INFO - icrawler.crawler - start crawling...\n",
      "2025-04-08 10:20:45,825 - INFO - icrawler.crawler - starting 1 feeder threads...\n",
      "2025-04-08 10:20:45,825 - INFO - feeder - thread feeder-001 exit\n",
      "2025-04-08 10:20:45,830 - INFO - icrawler.crawler - starting 1 parser threads...\n",
      "2025-04-08 10:20:45,830 - INFO - icrawler.crawler - starting 1 downloader threads...\n"
     ]
    },
    {
     "name": "stdout",
     "output_type": "stream",
     "text": [
      "Mengunduh gambar untuk: abstract background\n"
     ]
    },
    {
     "name": "stderr",
     "output_type": "stream",
     "text": [
      "2025-04-08 10:20:46,242 - INFO - parser - downloaded image reached max num, thread parser-001 is ready to exit\n",
      "2025-04-08 10:20:46,242 - INFO - parser - thread parser-001 exit\n",
      "2025-04-08 10:20:47,484 - INFO - parser - parsing result page https://www.google.com/search?q=abstract+background&ijn=0&start=0&tbs=&tbm=isch\n",
      "2025-04-08 10:20:47,909 - INFO - downloader - image #1\thttps://static.vecteezy.com/system/resources/thumbnails/003/557/256/small_2x/abstract-blue-and-orange-wave-business-background-free-vector.jpg\n",
      "2025-04-08 10:20:48,007 - INFO - downloader - image #2\thttps://static.vecteezy.com/system/resources/thumbnails/001/984/880/small_2x/abstract-colorful-geometric-overlapping-background-and-texture-free-vector.jpg\n",
      "2025-04-08 10:20:53,551 - INFO - downloader - image #3\thttps://images.unsplash.com/photo-1618005182384-a83a8bd57fbe?fm=jpg\n",
      "2025-04-08 10:20:53,691 - INFO - downloader - image #4\thttps://static.vecteezy.com/system/resources/thumbnails/002/276/716/small_2x/abstract-geometric-background-in-flat-design-free-vector.jpg\n",
      "2025-04-08 10:20:55,484 - ERROR - downloader - Response status code 403, file https://images.all-free-download.com/images/thumbjpg\n",
      "2025-04-08 10:20:55,994 - INFO - downloader - image #5\thttps://img.freepik.com/free-vector/abstract-blue-geometric-shapes-background_1035-17545.jpg\n",
      "2025-04-08 10:20:56,138 - INFO - downloader - image #6\thttps://img.freepik.com/free-vector/low-poly-style-abstract-backdrop-modern-presentation_1017-53594.jpg\n",
      "2025-04-08 10:20:58,820 - ERROR - downloader - Exception caught when downloading file https://png, error: HTTPSConnectionPool(host='png', port=443): Max retries exceeded with url: / (Caused by NameResolutionError(\"<urllib3.connection.HTTPSConnection object at 0x000001C047574140>: Failed to resolve 'png' ([Errno 11001] getaddrinfo failed)\")), remaining retry times: 2\n",
      "2025-04-08 10:21:01,517 - ERROR - downloader - Exception caught when downloading file https://png, error: HTTPSConnectionPool(host='png', port=443): Max retries exceeded with url: / (Caused by NameResolutionError(\"<urllib3.connection.HTTPSConnection object at 0x000001C047575370>: Failed to resolve 'png' ([Errno 11001] getaddrinfo failed)\")), remaining retry times: 1\n",
      "2025-04-08 10:21:04,191 - ERROR - downloader - Exception caught when downloading file https://png, error: HTTPSConnectionPool(host='png', port=443): Max retries exceeded with url: / (Caused by NameResolutionError(\"<urllib3.connection.HTTPSConnection object at 0x000001C047575A30>: Failed to resolve 'png' ([Errno 11001] getaddrinfo failed)\")), remaining retry times: 0\n",
      "2025-04-08 10:21:05,162 - ERROR - downloader - Response status code 400, file https://media.istockphoto.com/id/1419766496/photo/abstract-concepts-of-cybersecurity-technology-and-digital-data-protection-protect-internet.jpg\n",
      "2025-04-08 10:21:05,572 - ERROR - downloader - Response status code 403, file https://files.123freevectors.com/wp-content/original/119309-colorful-abstract-background-graphic.jpg\n",
      "2025-04-08 10:21:06,273 - INFO - downloader - image #7\thttps://cdn.vectorstock.com/i/1000v/39/09/abstract-background-vector-1123909.jpg\n",
      "2025-04-08 10:21:06,434 - INFO - downloader - image #8\thttps://static.vecteezy.com/system/resources/thumbnails/001/437/080/small_2x/geometric-abstract-with-memphis-style-background-free-vector.jpg\n",
      "2025-04-08 10:21:06,767 - INFO - downloader - image #9\thttps://cdn.vectorstock.com/i/1000v/28/05/abstract-background-vector-2352805.jpg\n",
      "2025-04-08 10:21:07,060 - ERROR - downloader - Response status code 403, file https://files.123freevectors.com/wp-content/original/119307-colorful-abstract-background-image.jpg\n",
      "2025-04-08 10:21:07,180 - INFO - downloader - image #10\thttps://static.vecteezy.com/system/resources/previews/004/242/510/non_2x/abstract-wave-trendy-geometric-abstract-background-with-white-and-blue-gradient-vector.jpg\n",
      "2025-04-08 10:21:08,020 - INFO - downloader - downloaded images reach max num, thread downloader-001 is ready to exit\n",
      "2025-04-08 10:21:08,020 - INFO - downloader - thread downloader-001 exit\n",
      "2025-04-08 10:21:08,840 - INFO - icrawler.crawler - Crawling task done!\n"
     ]
    },
    {
     "name": "stderr",
     "output_type": "stream",
     "text": [
      "2025-04-08 10:21:09,186 - INFO - parser - downloaded image reached max num, thread parser-001 is ready to exit\n",
      "2025-04-08 10:21:09,186 - INFO - parser - thread parser-001 exit\n"
     ]
    }
   ],
   "source": [
    "import os\n",
    "from icrawler.builtin import GoogleImageCrawler\n",
    "from PIL import Image\n",
    "\n",
    "# Kategori pencarian untuk gambar non-telur\n",
    "search_terms = [\n",
    "    \"empty plate\", \"hand\", \"fork\", \"glass\", \"keyboard\", \"furniture\", \"paper\", \"plastic bottle\", \"abstract background\"\n",
    "]\n",
    "\n",
    "save_folder = \"dataset/not_egg\"\n",
    "os.makedirs(save_folder, exist_ok=True)\n",
    "\n",
    "for term in search_terms:\n",
    "    print(f\"Mengunduh gambar untuk: {term}\")\n",
    "    term_folder = os.path.join(save_folder, term.replace(\" \", \"_\"))\n",
    "    os.makedirs(term_folder, exist_ok=True)\n",
    "\n",
    "    google_crawler = GoogleImageCrawler(storage={'root_dir': term_folder})\n",
    "    google_crawler.crawl(keyword=term, max_num=10)\n",
    "\n",
    "    # Resize semua gambar jadi 128x128 agar cocok dengan model kamu\n",
    "    for img_name in os.listdir(term_folder):\n",
    "        img_path = os.path.join(term_folder, img_name)\n",
    "        try:\n",
    "            img = Image.open(img_path).convert(\"RGB\")\n",
    "            img = img.resize((128, 128))\n",
    "            img.save(img_path)\n",
    "        except Exception as e:\n",
    "            print(f\"❌ Gagal memproses {img_name}: {e}\")\n"
   ]
  },
  {
   "cell_type": "code",
   "execution_count": 4,
   "id": "7483cacd",
   "metadata": {},
   "outputs": [
    {
     "name": "stdout",
     "output_type": "stream",
     "text": [
      "Total gambar: 90\n",
      "Training: 72\n",
      "Testing: 18\n"
     ]
    }
   ],
   "source": [
    "import os\n",
    "import random\n",
    "import shutil\n",
    "\n",
    "# Folder sumber yang memiliki subfolder per kategori\n",
    "source_root = 'dataset/not_egg'\n",
    "\n",
    "# Folder tujuan\n",
    "dest_train = 'dataset_cleaned/training/not_egg'\n",
    "dest_test = 'dataset_cleaned/testing/not_egg'\n",
    "\n",
    "# Buat folder tujuan jika belum ada\n",
    "os.makedirs(dest_train, exist_ok=True)\n",
    "os.makedirs(dest_test, exist_ok=True)\n",
    "\n",
    "# Kumpulkan semua path gambar dari semua subfolder\n",
    "all_image_paths = []\n",
    "for root, dirs, files in os.walk(source_root):\n",
    "    for file in files:\n",
    "        if file.lower().endswith(('.jpg', '.jpeg', '.png')):\n",
    "            all_image_paths.append(os.path.join(root, file))\n",
    "\n",
    "# Acak urutan file\n",
    "random.shuffle(all_image_paths)\n",
    "\n",
    "# Split\n",
    "split_ratio = 0.8\n",
    "split_index = int(len(all_image_paths) * split_ratio)\n",
    "train_paths = all_image_paths[:split_index]\n",
    "test_paths = all_image_paths[split_index:]\n",
    "\n",
    "# Copy file ke folder tujuan\n",
    "def copy_images(image_paths, dest_folder):\n",
    "    for path in image_paths:\n",
    "        filename = os.path.basename(path)\n",
    "        dest_path = os.path.join(dest_folder, filename)\n",
    "        # Tambahkan angka random jika nama file sama\n",
    "        if os.path.exists(dest_path):\n",
    "            name, ext = os.path.splitext(filename)\n",
    "            filename = f\"{name}_{random.randint(1000,9999)}{ext}\"\n",
    "            dest_path = os.path.join(dest_folder, filename)\n",
    "        shutil.copy(path, dest_path)\n",
    "\n",
    "copy_images(train_paths, dest_train)\n",
    "copy_images(test_paths, dest_test)\n",
    "\n",
    "print(f\"Total gambar: {len(all_image_paths)}\")\n",
    "print(f\"Training: {len(train_paths)}\")\n",
    "print(f\"Testing: {len(test_paths)}\")\n"
   ]
  }
 ],
 "metadata": {
  "kernelspec": {
   "display_name": "notesenv",
   "language": "python",
   "name": "python3"
  },
  "language_info": {
   "codemirror_mode": {
    "name": "ipython",
    "version": 3
   },
   "file_extension": ".py",
   "mimetype": "text/x-python",
   "name": "python",
   "nbconvert_exporter": "python",
   "pygments_lexer": "ipython3",
   "version": "3.12.3"
  }
 },
 "nbformat": 4,
 "nbformat_minor": 5
}
